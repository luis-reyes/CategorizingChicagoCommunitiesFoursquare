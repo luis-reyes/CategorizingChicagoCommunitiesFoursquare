{
 "cells": [
  {
   "cell_type": "markdown",
   "metadata": {},
   "source": [
    "### This notebook uses pandas to scrape the following Wikipedia page,https://en.wikipedia.org/wiki/List_of_postal_codes_of_Canada:_M, in order to obtain the data that is in the table of postal codes and to transform the data into a pandas dataframe\n",
    "\n"
   ]
  },
  {
   "cell_type": "code",
   "execution_count": 1,
   "metadata": {},
   "outputs": [
    {
     "name": "stdout",
     "output_type": "stream",
     "text": [
      "Requirement already satisfied: lxml in /home/jupyterlab/conda/envs/python/lib/python3.6/site-packages (4.5.0)\n"
     ]
    }
   ],
   "source": [
    "#setting required libraries\n",
    "import pandas as pd\n",
    "import numpy as np\n",
    "import requests\n",
    "!pip install lxml"
   ]
  },
  {
   "cell_type": "code",
   "execution_count": 16,
   "metadata": {},
   "outputs": [],
   "source": [
    "#getting the list of postalcodes/boroughs/neighborhoods\n",
    "res = requests.get(\"https://en.wikipedia.org/wiki/List_of_postal_codes_of_Canada:_M\").text\n",
    "\n",
    "#instead of using Beautiful Soap i decided to use pandas directly , i experimented with both and found pandas to be the more direct approach.\n",
    "df = pd.read_html(res)\n",
    "#Since  the above function searches for tables only we get the first 1 according to the link of postal codes\n",
    "df = df[0]\n",
    "\n",
    "#We proceed to clean the data\n",
    "df = df.rename(columns={\"Postal code\": \"PostalCode\"}) #changes name to remove empty space\n",
    "df = df[df.Borough != 'Not assigned'] # removes all rows where borough is set as 'not assigned'\n",
    "df[\"Neighborhood\"].fillna(df[\"Borough\"], inplace = True)  # in case of there existing empty Neighborhoods we assigned the Borough\n",
    "#df"
   ]
  },
  {
   "cell_type": "code",
   "execution_count": 22,
   "metadata": {},
   "outputs": [
    {
     "data": {
      "text/plain": [
       "(103, 3)"
      ]
     },
     "execution_count": 22,
     "metadata": {},
     "output_type": "execute_result"
    }
   ],
   "source": [
    "df.shape"
   ]
  },
  {
   "cell_type": "code",
   "execution_count": null,
   "metadata": {},
   "outputs": [],
   "source": []
  }
 ],
 "metadata": {
  "kernelspec": {
   "display_name": "Python",
   "language": "python",
   "name": "conda-env-python-py"
  },
  "language_info": {
   "codemirror_mode": {
    "name": "ipython",
    "version": 3
   },
   "file_extension": ".py",
   "mimetype": "text/x-python",
   "name": "python",
   "nbconvert_exporter": "python",
   "pygments_lexer": "ipython3",
   "version": "3.6.10"
  }
 },
 "nbformat": 4,
 "nbformat_minor": 4
}
