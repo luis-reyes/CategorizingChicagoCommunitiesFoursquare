{
 "cells": [
  {
   "cell_type": "markdown",
   "metadata": {},
   "source": [
    "# Categorizing Chicago Communities using Crime Data and Foursquare\n",
    "\n",
    "## Table of contents\n",
    "* [Introduction / Business Problem](#introduction)\n",
    "* [Data](#data)\n",
    "* [Methodology](#methodology)\n",
    "* [Analysis](#analysis)\n",
    "* [Results and Discussion](#results)\n",
    "* [Conclusion](#conclusion)"
   ]
  },
  {
   "cell_type": "markdown",
   "metadata": {},
   "source": [
    "## Introduction / Business Problem <a name=\"introduction\"></a>\n",
    "\n",
    "The objective of this project is to obtain the safest communities taking into account the crime rate. The result of this study is aimed at those interested in living in the city of Chicago.\n",
    "\n",
    "Chicago is one of the largest cities of the united states with a population of over 2 and a half million people. Chicago has 77 communities grouped into 9 districts.  The city has reported more than 7 million crimes of every category since 2001, 259 thousand just in 2019.  Business Problem  We will deal with the decision of “Which community has had the least crimes in 2019”, finding the right community to move into or beginning a business entrepreneurship based on the security and venue(residence) density in each community. \n",
    " "
   ]
  },
  {
   "cell_type": "markdown",
   "metadata": {},
   "source": [
    "## Data <a name=\"data\"></a>\n",
    "\n",
    "Our study will be based on the data extracted from:\n",
    " * Crime Data(using the datasets provided by <a target='new' href='https://data.cityofchicago.org/Public-Safety/Crimes-2001-to-present-Dashboard/5cd6-ry5g'>the city of chicago</a>)\n",
    " * Community information(scraped from <a target='new' href='https://en.wikipedia.org/wiki/Community_areas_in_Chicago'>this wikipedia page</a>)\n",
    " \t* Using geopy to get each coordinate\n",
    " * Foursquare api to explore residences near our communities\n",
    " \n",
    "**We will be using only 2019 crime data**.\n",
    " "
   ]
  },
  {
   "cell_type": "code",
   "execution_count": 1,
   "metadata": {},
   "outputs": [
    {
     "name": "stdout",
     "output_type": "stream",
     "text": [
      "Collecting package metadata (current_repodata.json): done\n",
      "Solving environment: done\n",
      "\n",
      "# All requested packages already installed.\n",
      "\n",
      "Requirement already satisfied: lxml in /home/jupyterlab/conda/envs/python/lib/python3.6/site-packages (4.5.0)\n"
     ]
    }
   ],
   "source": [
    "import pandas as pd\n",
    "import numpy as np\n",
    "import requests\n",
    "!conda install -c conda-forge geopy --yes\n",
    "from geopy.geocoders import Nominatim # convert an address into latitude and longitude values\n",
    "!pip install lxml\n",
    "#!conda install -c conda-forge folium=0.5.0 --yes # uncomment this line if you haven't completed the Foursquare API lab\n",
    "import folium # map rendering library"
   ]
  },
  {
   "cell_type": "markdown",
   "metadata": {},
   "source": [
    "**Since we downloaded the data corresponding to 2019 into csv file named: ChicagoCrimes2019.csv we proceed to utilize it**"
   ]
  },
  {
   "cell_type": "code",
   "execution_count": 2,
   "metadata": {},
   "outputs": [
    {
     "data": {
      "text/plain": [
       "(259004, 22)"
      ]
     },
     "execution_count": 2,
     "metadata": {},
     "output_type": "execute_result"
    }
   ],
   "source": [
    "df_crimes = pd.read_csv('ChicagoCrimes2019.csv')\n",
    "df_crimes.shape"
   ]
  },
  {
   "cell_type": "code",
   "execution_count": 107,
   "metadata": {},
   "outputs": [
    {
     "data": {
      "text/html": [
       "<div>\n",
       "<style scoped>\n",
       "    .dataframe tbody tr th:only-of-type {\n",
       "        vertical-align: middle;\n",
       "    }\n",
       "\n",
       "    .dataframe tbody tr th {\n",
       "        vertical-align: top;\n",
       "    }\n",
       "\n",
       "    .dataframe thead th {\n",
       "        text-align: right;\n",
       "    }\n",
       "</style>\n",
       "<table border=\"1\" class=\"dataframe\">\n",
       "  <thead>\n",
       "    <tr style=\"text-align: right;\">\n",
       "      <th></th>\n",
       "      <th>CommunityArea</th>\n",
       "      <th>Latitude</th>\n",
       "      <th>Longitude</th>\n",
       "    </tr>\n",
       "  </thead>\n",
       "  <tbody>\n",
       "    <tr>\n",
       "      <th>0</th>\n",
       "      <td>22.0</td>\n",
       "      <td>41.920626</td>\n",
       "      <td>-87.699237</td>\n",
       "    </tr>\n",
       "    <tr>\n",
       "      <th>1</th>\n",
       "      <td>23.0</td>\n",
       "      <td>41.900916</td>\n",
       "      <td>-87.718184</td>\n",
       "    </tr>\n",
       "    <tr>\n",
       "      <th>2</th>\n",
       "      <td>23.0</td>\n",
       "      <td>41.899790</td>\n",
       "      <td>-87.720116</td>\n",
       "    </tr>\n",
       "    <tr>\n",
       "      <th>3</th>\n",
       "      <td>30.0</td>\n",
       "      <td>41.840016</td>\n",
       "      <td>-87.712231</td>\n",
       "    </tr>\n",
       "    <tr>\n",
       "      <th>4</th>\n",
       "      <td>23.0</td>\n",
       "      <td>41.907072</td>\n",
       "      <td>-87.731331</td>\n",
       "    </tr>\n",
       "  </tbody>\n",
       "</table>\n",
       "</div>"
      ],
      "text/plain": [
       "   CommunityArea   Latitude  Longitude\n",
       "0           22.0  41.920626 -87.699237\n",
       "1           23.0  41.900916 -87.718184\n",
       "2           23.0  41.899790 -87.720116\n",
       "3           30.0  41.840016 -87.712231\n",
       "4           23.0  41.907072 -87.731331"
      ]
     },
     "execution_count": 107,
     "metadata": {},
     "output_type": "execute_result"
    }
   ],
   "source": [
    "df_crimes.head()"
   ]
  },
  {
   "cell_type": "markdown",
   "metadata": {},
   "source": [
    "**Crime Data preliminar cleaning**"
   ]
  },
  {
   "cell_type": "code",
   "execution_count": 3,
   "metadata": {},
   "outputs": [
    {
     "data": {
      "text/plain": [
       "(259002, 3)"
      ]
     },
     "execution_count": 3,
     "metadata": {},
     "output_type": "execute_result"
    }
   ],
   "source": [
    "#remove unnecessary columns\n",
    "df_crimes.drop(df_crimes.columns.difference(['Community Area','Latitude','Longitude']), 1, inplace=True)\n",
    "#rename for ease of access\n",
    "df_crimes = df_crimes.rename(columns={\"Community Area\": \"CommunityArea\"})\n",
    "#delete rows that dont have a community\n",
    "df_crimes = df_crimes[df_crimes.CommunityArea != 0]\n",
    "df_crimes.shape"
   ]
  },
  {
   "cell_type": "markdown",
   "metadata": {},
   "source": [
    "Now we need a list of all communities, we use pandas to scrape the data from wikipedia"
   ]
  },
  {
   "cell_type": "code",
   "execution_count": 60,
   "metadata": {},
   "outputs": [
    {
     "name": "stdout",
     "output_type": "stream",
     "text": [
      "the object communities_raw_data is of type <class 'list'>, has 12 items of type <class 'pandas.core.frame.DataFrame'>\n"
     ]
    }
   ],
   "source": [
    "communities_raw_data = pd.read_html('https://en.wikipedia.org/wiki/Community_areas_in_Chicago')\n",
    "# the pandas read_html function reads all tables from the scraped webpage. Since chicago has 77 communities divided into 9 districts \n",
    "#we take the first 9 indexes\n",
    "print('the object communities_raw_data is of type {}, has {} items of type {}'.format(type(communities_raw_data),\n",
    "                                                                                      len(communities_raw_data),\n",
    "                                                                                      type(communities_raw_data[0])))"
   ]
  },
  {
   "cell_type": "markdown",
   "metadata": {},
   "source": [
    "**Now that we have a list of DataFrames containing all the community data, we proceed to merge each item into only 1 DataFrame**"
   ]
  },
  {
   "cell_type": "code",
   "execution_count": 53,
   "metadata": {},
   "outputs": [
    {
     "data": {
      "text/html": [
       "<div>\n",
       "<style scoped>\n",
       "    .dataframe tbody tr th:only-of-type {\n",
       "        vertical-align: middle;\n",
       "    }\n",
       "\n",
       "    .dataframe tbody tr th {\n",
       "        vertical-align: top;\n",
       "    }\n",
       "\n",
       "    .dataframe thead th {\n",
       "        text-align: right;\n",
       "    }\n",
       "</style>\n",
       "<table border=\"1\" class=\"dataframe\">\n",
       "  <thead>\n",
       "    <tr style=\"text-align: right;\">\n",
       "      <th></th>\n",
       "      <th>CommunityNumber</th>\n",
       "      <th>CommunityAreaName</th>\n",
       "    </tr>\n",
       "  </thead>\n",
       "  <tbody>\n",
       "    <tr>\n",
       "      <th>0</th>\n",
       "      <td>8</td>\n",
       "      <td>Near North Side</td>\n",
       "    </tr>\n",
       "    <tr>\n",
       "      <th>1</th>\n",
       "      <td>32</td>\n",
       "      <td>Loop</td>\n",
       "    </tr>\n",
       "    <tr>\n",
       "      <th>2</th>\n",
       "      <td>33</td>\n",
       "      <td>Near South Side</td>\n",
       "    </tr>\n",
       "    <tr>\n",
       "      <th>3</th>\n",
       "      <td>5</td>\n",
       "      <td>North Center</td>\n",
       "    </tr>\n",
       "    <tr>\n",
       "      <th>4</th>\n",
       "      <td>6</td>\n",
       "      <td>Lake View</td>\n",
       "    </tr>\n",
       "  </tbody>\n",
       "</table>\n",
       "</div>"
      ],
      "text/plain": [
       "  CommunityNumber CommunityAreaName\n",
       "0               8   Near North Side\n",
       "1              32              Loop\n",
       "2              33   Near South Side\n",
       "3               5      North Center\n",
       "4               6         Lake View"
      ]
     },
     "execution_count": 53,
     "metadata": {},
     "output_type": "execute_result"
    }
   ],
   "source": [
    "# define the dataframe columns\n",
    "column_names = ['CommunityNumber', 'CommunityAreaName'] \n",
    "\n",
    "# instantiate the dataframe\n",
    "community_data = pd.DataFrame(columns=column_names)\n",
    "\n",
    "for index in range(9):\n",
    "    for r,data in communities_raw_data[index].iterrows():\n",
    "        number =data.Number\n",
    "        name = data['Community area']\n",
    "\n",
    "        community_data = community_data.append({'CommunityNumber': number,\n",
    "                                              'CommunityAreaName': name} , ignore_index=True)\n",
    "\n",
    "community_data.head()"
   ]
  },
  {
   "cell_type": "markdown",
   "metadata": {},
   "source": [
    "### We need a function to obtain the location of each community "
   ]
  },
  {
   "cell_type": "code",
   "execution_count": 87,
   "metadata": {},
   "outputs": [],
   "source": [
    "#returns the latitud and longitude of a given community\n",
    "def get_community_location(community):\n",
    "    address = community+', Chicago, IL'\n",
    "    geolocator = Nominatim(user_agent=\"chicago_explorer\")\n",
    "    location = geolocator.geocode(address)\n",
    "    latitude = location.latitude\n",
    "    longitude = location.longitude\n",
    "    return latitude,longitude"
   ]
  },
  {
   "cell_type": "markdown",
   "metadata": {},
   "source": [
    "The next step is loop thru all communities and get each latitud,longitude\n"
   ]
  },
  {
   "cell_type": "code",
   "execution_count": 105,
   "metadata": {},
   "outputs": [
    {
     "data": {
      "text/html": [
       "<div>\n",
       "<style scoped>\n",
       "    .dataframe tbody tr th:only-of-type {\n",
       "        vertical-align: middle;\n",
       "    }\n",
       "\n",
       "    .dataframe tbody tr th {\n",
       "        vertical-align: top;\n",
       "    }\n",
       "\n",
       "    .dataframe thead th {\n",
       "        text-align: right;\n",
       "    }\n",
       "</style>\n",
       "<table border=\"1\" class=\"dataframe\">\n",
       "  <thead>\n",
       "    <tr style=\"text-align: right;\">\n",
       "      <th></th>\n",
       "      <th>CommunityNumber</th>\n",
       "      <th>CommunityAreaName</th>\n",
       "      <th>Latitude</th>\n",
       "      <th>Longitude</th>\n",
       "    </tr>\n",
       "  </thead>\n",
       "  <tbody>\n",
       "    <tr>\n",
       "      <th>0</th>\n",
       "      <td>8</td>\n",
       "      <td>Near North Side</td>\n",
       "      <td>41.900033</td>\n",
       "      <td>-87.634497</td>\n",
       "    </tr>\n",
       "    <tr>\n",
       "      <th>1</th>\n",
       "      <td>32</td>\n",
       "      <td>Loop</td>\n",
       "      <td>41.875562</td>\n",
       "      <td>-87.624421</td>\n",
       "    </tr>\n",
       "    <tr>\n",
       "      <th>2</th>\n",
       "      <td>33</td>\n",
       "      <td>Near South Side</td>\n",
       "      <td>41.856700</td>\n",
       "      <td>-87.624774</td>\n",
       "    </tr>\n",
       "    <tr>\n",
       "      <th>3</th>\n",
       "      <td>5</td>\n",
       "      <td>North Center</td>\n",
       "      <td>41.956107</td>\n",
       "      <td>-87.679160</td>\n",
       "    </tr>\n",
       "    <tr>\n",
       "      <th>4</th>\n",
       "      <td>6</td>\n",
       "      <td>Lake View</td>\n",
       "      <td>41.947050</td>\n",
       "      <td>-87.655429</td>\n",
       "    </tr>\n",
       "  </tbody>\n",
       "</table>\n",
       "</div>"
      ],
      "text/plain": [
       "  CommunityNumber CommunityAreaName   Latitude  Longitude\n",
       "0               8   Near North Side  41.900033 -87.634497\n",
       "1              32              Loop  41.875562 -87.624421\n",
       "2              33   Near South Side  41.856700 -87.624774\n",
       "3               5      North Center  41.956107 -87.679160\n",
       "4               6         Lake View  41.947050 -87.655429"
      ]
     },
     "execution_count": 105,
     "metadata": {},
     "output_type": "execute_result"
    }
   ],
   "source": [
    "for i,data in community_data.iterrows():\n",
    "    location= get_community_location(data.CommunityAreaName)\n",
    "    community_data.at[i,'Latitude'] = location[0]\n",
    "    community_data.at[i,'Longitude'] = location[1]\n",
    "    \n",
    "community_data.head()"
   ]
  },
  {
   "cell_type": "markdown",
   "metadata": {},
   "source": [
    "## Methodology <a name=\"methodology\"></a>"
   ]
  },
  {
   "cell_type": "code",
   "execution_count": 103,
   "metadata": {},
   "outputs": [
    {
     "data": {
      "text/plain": [
       "(41.9000327, -87.6344975)"
      ]
     },
     "execution_count": 103,
     "metadata": {},
     "output_type": "execute_result"
    }
   ],
   "source": [
    "get_community_location('Near North Side')\n"
   ]
  },
  {
   "cell_type": "code",
   "execution_count": 59,
   "metadata": {},
   "outputs": [
    {
     "data": {
      "text/html": [
       "<div>\n",
       "<style scoped>\n",
       "    .dataframe tbody tr th:only-of-type {\n",
       "        vertical-align: middle;\n",
       "    }\n",
       "\n",
       "    .dataframe tbody tr th {\n",
       "        vertical-align: top;\n",
       "    }\n",
       "\n",
       "    .dataframe thead th {\n",
       "        text-align: right;\n",
       "    }\n",
       "</style>\n",
       "<table border=\"1\" class=\"dataframe\">\n",
       "  <thead>\n",
       "    <tr style=\"text-align: right;\">\n",
       "      <th></th>\n",
       "      <th>CommunityArea</th>\n",
       "      <th>Latitude</th>\n",
       "      <th>Longitude</th>\n",
       "    </tr>\n",
       "  </thead>\n",
       "  <tbody>\n",
       "    <tr>\n",
       "      <th>0</th>\n",
       "      <td>22.0</td>\n",
       "      <td>41.920626</td>\n",
       "      <td>-87.699237</td>\n",
       "    </tr>\n",
       "    <tr>\n",
       "      <th>1</th>\n",
       "      <td>23.0</td>\n",
       "      <td>41.900916</td>\n",
       "      <td>-87.718184</td>\n",
       "    </tr>\n",
       "    <tr>\n",
       "      <th>2</th>\n",
       "      <td>23.0</td>\n",
       "      <td>41.899790</td>\n",
       "      <td>-87.720116</td>\n",
       "    </tr>\n",
       "    <tr>\n",
       "      <th>3</th>\n",
       "      <td>30.0</td>\n",
       "      <td>41.840016</td>\n",
       "      <td>-87.712231</td>\n",
       "    </tr>\n",
       "    <tr>\n",
       "      <th>4</th>\n",
       "      <td>23.0</td>\n",
       "      <td>41.907072</td>\n",
       "      <td>-87.731331</td>\n",
       "    </tr>\n",
       "    <tr>\n",
       "      <th>...</th>\n",
       "      <td>...</td>\n",
       "      <td>...</td>\n",
       "      <td>...</td>\n",
       "    </tr>\n",
       "    <tr>\n",
       "      <th>258999</th>\n",
       "      <td>27.0</td>\n",
       "      <td>41.877268</td>\n",
       "      <td>-87.711537</td>\n",
       "    </tr>\n",
       "    <tr>\n",
       "      <th>259000</th>\n",
       "      <td>25.0</td>\n",
       "      <td>41.874624</td>\n",
       "      <td>-87.745053</td>\n",
       "    </tr>\n",
       "    <tr>\n",
       "      <th>259001</th>\n",
       "      <td>24.0</td>\n",
       "      <td>NaN</td>\n",
       "      <td>NaN</td>\n",
       "    </tr>\n",
       "    <tr>\n",
       "      <th>259002</th>\n",
       "      <td>68.0</td>\n",
       "      <td>41.779174</td>\n",
       "      <td>-87.653278</td>\n",
       "    </tr>\n",
       "    <tr>\n",
       "      <th>259003</th>\n",
       "      <td>69.0</td>\n",
       "      <td>41.769150</td>\n",
       "      <td>-87.627137</td>\n",
       "    </tr>\n",
       "  </tbody>\n",
       "</table>\n",
       "<p>259002 rows × 3 columns</p>\n",
       "</div>"
      ],
      "text/plain": [
       "        CommunityArea   Latitude  Longitude\n",
       "0                22.0  41.920626 -87.699237\n",
       "1                23.0  41.900916 -87.718184\n",
       "2                23.0  41.899790 -87.720116\n",
       "3                30.0  41.840016 -87.712231\n",
       "4                23.0  41.907072 -87.731331\n",
       "...               ...        ...        ...\n",
       "258999           27.0  41.877268 -87.711537\n",
       "259000           25.0  41.874624 -87.745053\n",
       "259001           24.0        NaN        NaN\n",
       "259002           68.0  41.779174 -87.653278\n",
       "259003           69.0  41.769150 -87.627137\n",
       "\n",
       "[259002 rows x 3 columns]"
      ]
     },
     "execution_count": 59,
     "metadata": {},
     "output_type": "execute_result"
    }
   ],
   "source": [
    "#df_crimes.loc[df_crimes['CommunityArea']==0]\n",
    "df_crimes"
   ]
  },
  {
   "cell_type": "markdown",
   "metadata": {},
   "source": [
    "### Create a map of chicago and put every community in the map as markers"
   ]
  },
  {
   "cell_type": "code",
   "execution_count": 24,
   "metadata": {},
   "outputs": [
    {
     "data": {
      "text/html": [
       "<div style=\"width:100%;\"><div style=\"position:relative;width:100%;height:0;padding-bottom:60%;\"><iframe src=\"about:blank\" style=\"position:absolute;width:100%;height:100%;left:0;top:0;border:none !important;\" data-html=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 onload=\"this.contentDocument.open();this.contentDocument.write(atob(this.getAttribute('data-html')));this.contentDocument.close();\" allowfullscreen webkitallowfullscreen mozallowfullscreen></iframe></div></div>"
      ],
      "text/plain": [
       "<folium.folium.Map at 0x7f4fce8e9e48>"
      ]
     },
     "execution_count": 24,
     "metadata": {},
     "output_type": "execute_result"
    }
   ],
   "source": [
    "map_toronto = folium.Map(location=[latitude, longitude], zoom_start=15)\n",
    "\n",
    "\n",
    "    \n",
    "map_toronto\n",
    "\n",
    "import geocoder # import geocoder\n",
    "\n",
    "# initialize your variable to None\n",
    "lat_lng_coords = None\n",
    "\n",
    "# loop until you get the coordinates\n",
    "while(lat_lng_coords is None):\n",
    "  g = geocoder.google('{}, Toronto, Ontario'.format(postal_code))\n",
    "  lat_lng_coords = g.latlng\n",
    "\n",
    "latitude = lat_lng_coords[0]\n",
    "longitude = lat_lng_coords[1]"
   ]
  },
  {
   "cell_type": "code",
   "execution_count": 10,
   "metadata": {},
   "outputs": [],
   "source": [
    "\n",
    "dfCrimes = pd.read_csv('ChicagoCrimes2019.csv')"
   ]
  },
  {
   "cell_type": "code",
   "execution_count": 11,
   "metadata": {},
   "outputs": [
    {
     "data": {
      "text/plain": [
       "(259004, 22)"
      ]
     },
     "execution_count": 11,
     "metadata": {},
     "output_type": "execute_result"
    }
   ],
   "source": [
    "dfCrimes.shape"
   ]
  },
  {
   "cell_type": "code",
   "execution_count": 17,
   "metadata": {},
   "outputs": [
    {
     "data": {
      "text/plain": [
       "array([22., 23., 30., 31., 26., 18., 24., 25.,  5., 20., 14., 29., 53.,\n",
       "       69., 15., 44., 75., 43., 27., 42., 54.,  4., 39., 60.,  1., 63.,\n",
       "       49., 76.,  8., 73., 58., 67., 19.,  3., 46., 38.,  7., 28., 65.,\n",
       "        6., 71., 66., 56., 55., 45., 68., 35., 33., 32., 48., 72., 36.,\n",
       "       50., 41., 13., 64., 47., 16., 70., 21., 62., 51., 61., 77., 57.,\n",
       "        2., 40., 34., 11., 52., 74., 59., 17., 10.,  9., 37., 12.,  0.,\n",
       "       nan])"
      ]
     },
     "execution_count": 17,
     "metadata": {},
     "output_type": "execute_result"
    }
   ],
   "source": [
    "dfCrimes['Community Area'].unique()\n"
   ]
  },
  {
   "cell_type": "code",
   "execution_count": 14,
   "metadata": {},
   "outputs": [
    {
     "data": {
      "text/html": [
       "<div>\n",
       "<style scoped>\n",
       "    .dataframe tbody tr th:only-of-type {\n",
       "        vertical-align: middle;\n",
       "    }\n",
       "\n",
       "    .dataframe tbody tr th {\n",
       "        vertical-align: top;\n",
       "    }\n",
       "\n",
       "    .dataframe thead th {\n",
       "        text-align: right;\n",
       "    }\n",
       "</style>\n",
       "<table border=\"1\" class=\"dataframe\">\n",
       "  <thead>\n",
       "    <tr style=\"text-align: right;\">\n",
       "      <th></th>\n",
       "      <th>ID</th>\n",
       "      <th>Case Number</th>\n",
       "      <th>Date</th>\n",
       "      <th>Block</th>\n",
       "      <th>IUCR</th>\n",
       "      <th>Primary Type</th>\n",
       "      <th>Description</th>\n",
       "      <th>Location Description</th>\n",
       "      <th>Arrest</th>\n",
       "      <th>Domestic</th>\n",
       "      <th>...</th>\n",
       "      <th>Ward</th>\n",
       "      <th>Community Area</th>\n",
       "      <th>FBI Code</th>\n",
       "      <th>X Coordinate</th>\n",
       "      <th>Y Coordinate</th>\n",
       "      <th>Year</th>\n",
       "      <th>Updated On</th>\n",
       "      <th>Latitude</th>\n",
       "      <th>Longitude</th>\n",
       "      <th>Location</th>\n",
       "    </tr>\n",
       "  </thead>\n",
       "  <tbody>\n",
       "    <tr>\n",
       "      <th>0</th>\n",
       "      <td>11965029</td>\n",
       "      <td>JD132142</td>\n",
       "      <td>01/01/2019 12:00:00 AM</td>\n",
       "      <td>028XX W SHAKESPEARE AVE</td>\n",
       "      <td>1752</td>\n",
       "      <td>OFFENSE INVOLVING CHILDREN</td>\n",
       "      <td>AGGRAVATED CRIMINAL SEXUAL ABUSE BY FAMILY MEMBER</td>\n",
       "      <td>APARTMENT</td>\n",
       "      <td>False</td>\n",
       "      <td>True</td>\n",
       "      <td>...</td>\n",
       "      <td>1.0</td>\n",
       "      <td>22.0</td>\n",
       "      <td>17</td>\n",
       "      <td>1156820.0</td>\n",
       "      <td>1914304.0</td>\n",
       "      <td>2019</td>\n",
       "      <td>04/20/2020 03:47:53 PM</td>\n",
       "      <td>41.920626</td>\n",
       "      <td>-87.699237</td>\n",
       "      <td>(41.920626036, -87.699236545)</td>\n",
       "    </tr>\n",
       "    <tr>\n",
       "      <th>1</th>\n",
       "      <td>11752916</td>\n",
       "      <td>JC342540</td>\n",
       "      <td>01/01/2019 12:00:00 AM</td>\n",
       "      <td>036XX W THOMAS ST</td>\n",
       "      <td>1752</td>\n",
       "      <td>OFFENSE INVOLVING CHILDREN</td>\n",
       "      <td>AGGRAVATED CRIMINAL SEXUAL ABUSE BY FAMILY MEMBER</td>\n",
       "      <td>APARTMENT</td>\n",
       "      <td>False</td>\n",
       "      <td>False</td>\n",
       "      <td>...</td>\n",
       "      <td>27.0</td>\n",
       "      <td>23.0</td>\n",
       "      <td>17</td>\n",
       "      <td>1151715.0</td>\n",
       "      <td>1907084.0</td>\n",
       "      <td>2019</td>\n",
       "      <td>04/19/2020 03:44:21 PM</td>\n",
       "      <td>41.900916</td>\n",
       "      <td>-87.718184</td>\n",
       "      <td>(41.900915738, -87.718183718)</td>\n",
       "    </tr>\n",
       "    <tr>\n",
       "      <th>2</th>\n",
       "      <td>11739188</td>\n",
       "      <td>JC326320</td>\n",
       "      <td>01/01/2019 12:00:00 AM</td>\n",
       "      <td>010XX N RIDGEWAY AVE</td>\n",
       "      <td>1752</td>\n",
       "      <td>OFFENSE INVOLVING CHILDREN</td>\n",
       "      <td>AGGRAVATED CRIMINAL SEXUAL ABUSE BY FAMILY MEMBER</td>\n",
       "      <td>APARTMENT</td>\n",
       "      <td>False</td>\n",
       "      <td>True</td>\n",
       "      <td>...</td>\n",
       "      <td>27.0</td>\n",
       "      <td>23.0</td>\n",
       "      <td>17</td>\n",
       "      <td>1151192.0</td>\n",
       "      <td>1906670.0</td>\n",
       "      <td>2019</td>\n",
       "      <td>04/19/2020 03:44:21 PM</td>\n",
       "      <td>41.899790</td>\n",
       "      <td>-87.720116</td>\n",
       "      <td>(41.899789956, -87.720115618)</td>\n",
       "    </tr>\n",
       "    <tr>\n",
       "      <th>3</th>\n",
       "      <td>11737723</td>\n",
       "      <td>JC323962</td>\n",
       "      <td>01/01/2019 12:00:00 AM</td>\n",
       "      <td>028XX S ST LOUIS AVE</td>\n",
       "      <td>1562</td>\n",
       "      <td>SEX OFFENSE</td>\n",
       "      <td>AGGRAVATED CRIMINAL SEXUAL ABUSE</td>\n",
       "      <td>APARTMENT</td>\n",
       "      <td>False</td>\n",
       "      <td>True</td>\n",
       "      <td>...</td>\n",
       "      <td>22.0</td>\n",
       "      <td>30.0</td>\n",
       "      <td>17</td>\n",
       "      <td>1153496.0</td>\n",
       "      <td>1884904.0</td>\n",
       "      <td>2019</td>\n",
       "      <td>04/19/2020 03:44:21 PM</td>\n",
       "      <td>41.840016</td>\n",
       "      <td>-87.712231</td>\n",
       "      <td>(41.840016176, -87.712231415)</td>\n",
       "    </tr>\n",
       "    <tr>\n",
       "      <th>4</th>\n",
       "      <td>11992909</td>\n",
       "      <td>JD166116</td>\n",
       "      <td>01/01/2019 12:00:00 AM</td>\n",
       "      <td>014XX N KEELER AVE</td>\n",
       "      <td>1562</td>\n",
       "      <td>SEX OFFENSE</td>\n",
       "      <td>AGGRAVATED CRIMINAL SEXUAL ABUSE</td>\n",
       "      <td>RESIDENCE</td>\n",
       "      <td>False</td>\n",
       "      <td>False</td>\n",
       "      <td>...</td>\n",
       "      <td>26.0</td>\n",
       "      <td>23.0</td>\n",
       "      <td>17</td>\n",
       "      <td>1148120.0</td>\n",
       "      <td>1909302.0</td>\n",
       "      <td>2019</td>\n",
       "      <td>03/23/2020 03:47:32 PM</td>\n",
       "      <td>41.907072</td>\n",
       "      <td>-87.731331</td>\n",
       "      <td>(41.907072136, -87.731331357)</td>\n",
       "    </tr>\n",
       "  </tbody>\n",
       "</table>\n",
       "<p>5 rows × 22 columns</p>\n",
       "</div>"
      ],
      "text/plain": [
       "         ID Case Number                    Date                    Block  \\\n",
       "0  11965029    JD132142  01/01/2019 12:00:00 AM  028XX W SHAKESPEARE AVE   \n",
       "1  11752916    JC342540  01/01/2019 12:00:00 AM        036XX W THOMAS ST   \n",
       "2  11739188    JC326320  01/01/2019 12:00:00 AM     010XX N RIDGEWAY AVE   \n",
       "3  11737723    JC323962  01/01/2019 12:00:00 AM     028XX S ST LOUIS AVE   \n",
       "4  11992909    JD166116  01/01/2019 12:00:00 AM       014XX N KEELER AVE   \n",
       "\n",
       "   IUCR                Primary Type  \\\n",
       "0  1752  OFFENSE INVOLVING CHILDREN   \n",
       "1  1752  OFFENSE INVOLVING CHILDREN   \n",
       "2  1752  OFFENSE INVOLVING CHILDREN   \n",
       "3  1562                 SEX OFFENSE   \n",
       "4  1562                 SEX OFFENSE   \n",
       "\n",
       "                                         Description Location Description  \\\n",
       "0  AGGRAVATED CRIMINAL SEXUAL ABUSE BY FAMILY MEMBER            APARTMENT   \n",
       "1  AGGRAVATED CRIMINAL SEXUAL ABUSE BY FAMILY MEMBER            APARTMENT   \n",
       "2  AGGRAVATED CRIMINAL SEXUAL ABUSE BY FAMILY MEMBER            APARTMENT   \n",
       "3                   AGGRAVATED CRIMINAL SEXUAL ABUSE            APARTMENT   \n",
       "4                   AGGRAVATED CRIMINAL SEXUAL ABUSE            RESIDENCE   \n",
       "\n",
       "   Arrest  Domestic  ...  Ward  Community Area  FBI Code  X Coordinate  \\\n",
       "0   False      True  ...   1.0            22.0        17     1156820.0   \n",
       "1   False     False  ...  27.0            23.0        17     1151715.0   \n",
       "2   False      True  ...  27.0            23.0        17     1151192.0   \n",
       "3   False      True  ...  22.0            30.0        17     1153496.0   \n",
       "4   False     False  ...  26.0            23.0        17     1148120.0   \n",
       "\n",
       "  Y Coordinate  Year              Updated On   Latitude  Longitude  \\\n",
       "0    1914304.0  2019  04/20/2020 03:47:53 PM  41.920626 -87.699237   \n",
       "1    1907084.0  2019  04/19/2020 03:44:21 PM  41.900916 -87.718184   \n",
       "2    1906670.0  2019  04/19/2020 03:44:21 PM  41.899790 -87.720116   \n",
       "3    1884904.0  2019  04/19/2020 03:44:21 PM  41.840016 -87.712231   \n",
       "4    1909302.0  2019  03/23/2020 03:47:32 PM  41.907072 -87.731331   \n",
       "\n",
       "                        Location  \n",
       "0  (41.920626036, -87.699236545)  \n",
       "1  (41.900915738, -87.718183718)  \n",
       "2  (41.899789956, -87.720115618)  \n",
       "3  (41.840016176, -87.712231415)  \n",
       "4  (41.907072136, -87.731331357)  \n",
       "\n",
       "[5 rows x 22 columns]"
      ]
     },
     "execution_count": 14,
     "metadata": {},
     "output_type": "execute_result"
    }
   ],
   "source": [
    "dfCrimes.head()"
   ]
  },
  {
   "cell_type": "code",
   "execution_count": 20,
   "metadata": {},
   "outputs": [],
   "source": [
    "communities_data = pd.read_html('https://en.wikipedia.org/wiki/Community_areas_in_Chicago')"
   ]
  },
  {
   "cell_type": "code",
   "execution_count": 23,
   "metadata": {},
   "outputs": [
    {
     "data": {
      "text/plain": [
       "12"
      ]
     },
     "execution_count": 23,
     "metadata": {},
     "output_type": "execute_result"
    }
   ],
   "source": [
    "len(communities_data)\n"
   ]
  },
  {
   "cell_type": "code",
   "execution_count": 32,
   "metadata": {},
   "outputs": [
    {
     "data": {
      "text/html": [
       "<div>\n",
       "<style scoped>\n",
       "    .dataframe tbody tr th:only-of-type {\n",
       "        vertical-align: middle;\n",
       "    }\n",
       "\n",
       "    .dataframe tbody tr th {\n",
       "        vertical-align: top;\n",
       "    }\n",
       "\n",
       "    .dataframe thead th {\n",
       "        text-align: right;\n",
       "    }\n",
       "</style>\n",
       "<table border=\"1\" class=\"dataframe\">\n",
       "  <thead>\n",
       "    <tr style=\"text-align: right;\">\n",
       "      <th></th>\n",
       "      <th>Number</th>\n",
       "      <th>Community area</th>\n",
       "      <th>Neighborhoods</th>\n",
       "    </tr>\n",
       "  </thead>\n",
       "  <tbody>\n",
       "    <tr>\n",
       "      <th>0</th>\n",
       "      <td>8</td>\n",
       "      <td>Near North Side</td>\n",
       "      <td>Cabrini–Green The Gold Coast Goose Island Magn...</td>\n",
       "    </tr>\n",
       "    <tr>\n",
       "      <th>1</th>\n",
       "      <td>32</td>\n",
       "      <td>Loop</td>\n",
       "      <td>Loop New Eastside South Loop West Loop Gate</td>\n",
       "    </tr>\n",
       "    <tr>\n",
       "      <th>2</th>\n",
       "      <td>33</td>\n",
       "      <td>Near South Side</td>\n",
       "      <td>Dearborn Park Printer's Row South Loop Prairie...</td>\n",
       "    </tr>\n",
       "  </tbody>\n",
       "</table>\n",
       "</div>"
      ],
      "text/plain": [
       "   Number   Community area                                      Neighborhoods\n",
       "0       8  Near North Side  Cabrini–Green The Gold Coast Goose Island Magn...\n",
       "1      32             Loop        Loop New Eastside South Loop West Loop Gate\n",
       "2      33  Near South Side  Dearborn Park Printer's Row South Loop Prairie..."
      ]
     },
     "execution_count": 32,
     "metadata": {},
     "output_type": "execute_result"
    }
   ],
   "source": [
    "communities_data[0]"
   ]
  },
  {
   "cell_type": "code",
   "execution_count": null,
   "metadata": {},
   "outputs": [],
   "source": []
  }
 ],
 "metadata": {
  "kernelspec": {
   "display_name": "Python",
   "language": "python",
   "name": "conda-env-python-py"
  },
  "language_info": {
   "codemirror_mode": {
    "name": "ipython",
    "version": 3
   },
   "file_extension": ".py",
   "mimetype": "text/x-python",
   "name": "python",
   "nbconvert_exporter": "python",
   "pygments_lexer": "ipython3",
   "version": "3.6.10"
  }
 },
 "nbformat": 4,
 "nbformat_minor": 4
}
